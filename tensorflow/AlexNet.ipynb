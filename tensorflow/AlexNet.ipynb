{
  "nbformat": 4,
  "nbformat_minor": 0,
  "metadata": {
    "colab": {
      "name": "AlexNet.ipynb",
      "provenance": []
    },
    "kernelspec": {
      "name": "python3",
      "display_name": "Python 3"
    }
  },
  "cells": [
    {
      "cell_type": "code",
      "metadata": {
        "id": "iZdS5PPNFpN_",
        "colab_type": "code",
        "colab": {}
      },
      "source": [
        "import tensorflow as tf\n",
        "import tensorflow_datasets as tfds\n",
        "import tensorflow.keras as K"
      ],
      "execution_count": 1,
      "outputs": []
    },
    {
      "cell_type": "code",
      "metadata": {
        "id": "6eeO80khFuNR",
        "colab_type": "code",
        "colab": {
          "base_uri": "https://localhost:8080/",
          "height": 34
        },
        "outputId": "518769d9-4b11-45c2-82ec-1c69119490f7"
      },
      "source": [
        "(x_train, y_train), (x_test, y_test) = tfds.as_numpy(tfds.load(\n",
        "    'horses_or_humans',\n",
        "    split=['train', 'test'],\n",
        "    batch_size=-1,\n",
        "    as_supervised=True,\n",
        "))\n",
        "\n",
        "x_train.shape, y_train.shape"
      ],
      "execution_count": 2,
      "outputs": [
        {
          "output_type": "execute_result",
          "data": {
            "text/plain": [
              "((1027, 300, 300, 3), (1027,))"
            ]
          },
          "metadata": {
            "tags": []
          },
          "execution_count": 2
        }
      ]
    },
    {
      "cell_type": "code",
      "metadata": {
        "id": "eJUNgaoOLrE8",
        "colab_type": "code",
        "colab": {
          "base_uri": "https://localhost:8080/",
          "height": 34
        },
        "outputId": "a29cd6aa-969b-4473-bbce-1e270a81e017"
      },
      "source": [
        "CLASSES = len(set(y_train.flatten().tolist()))\n",
        "INPUT_SIZE = [300, 300, 3]\n",
        "\n",
        "print(CLASSES)"
      ],
      "execution_count": 3,
      "outputs": [
        {
          "output_type": "stream",
          "text": [
            "2\n"
          ],
          "name": "stdout"
        }
      ]
    },
    {
      "cell_type": "code",
      "metadata": {
        "id": "mZebpIOkGWa1",
        "colab_type": "code",
        "colab": {}
      },
      "source": [
        "def alexnet(input_size=INPUT_SIZE, activation='relu', dropout=False):\n",
        "    model = K.Sequential([\n",
        "        K.layers.Conv2D(96, (11, 11), (2, 2), input_shape=input_size),\n",
        "        K.layers.BatchNormalization(),\n",
        "        K.layers.Activation(activation),\n",
        "        K.layers.MaxPool2D((3, 3), (2, 2)),\n",
        "        \n",
        "        K.layers.Conv2D(256, (5, 5), padding='same'),\n",
        "        K.layers.BatchNormalization(),\n",
        "        K.layers.Activation(activation),\n",
        "        K.layers.MaxPool2D((3, 3), (2, 2)),\n",
        "\n",
        "        K.layers.Conv2D(384, (3, 3), padding='same'),\n",
        "        K.layers.BatchNormalization(),\n",
        "        K.layers.Activation(activation),\n",
        "\n",
        "        K.layers.Conv2D(384, (3, 3), padding='same'),\n",
        "        K.layers.BatchNormalization(),\n",
        "        K.layers.Activation(activation),\n",
        "\n",
        "        K.layers.Conv2D(256, (3, 3), padding='same'),\n",
        "        K.layers.BatchNormalization(),\n",
        "        K.layers.Activation(activation),\n",
        "        K.layers.MaxPool2D((3, 3), (2, 2)),\n",
        "\n",
        "        K.layers.Flatten(),\n",
        "        K.layers.Dense(9216, activation=activation),\n",
        "    ])\n",
        "\n",
        "    if dropout:\n",
        "        model.add(K.layers.Dropout(0.5))\n",
        "\n",
        "    model.add(K.layers.Dense(4096, activation=activation))\n",
        "\n",
        "    if dropout:\n",
        "        model.add(K.layers.Dropout(0.5))\n",
        "\n",
        "    model.add(K.layers.Dense(4096, activation=activation))\n",
        "\n",
        "    if dropout:\n",
        "        model.add(K.layers.Dropout(0.5))\n",
        "\n",
        "    model.add(K.layers.Dense(CLASSES, activation='softmax'))\n",
        "\n",
        "    return model"
      ],
      "execution_count": 4,
      "outputs": []
    },
    {
      "cell_type": "code",
      "metadata": {
        "id": "RVaA_OAaTc4c",
        "colab_type": "code",
        "colab": {
          "base_uri": "https://localhost:8080/",
          "height": 935
        },
        "outputId": "7e611691-5a6f-4316-b333-607be7ab8baa"
      },
      "source": [
        "model = alexnet()\n",
        "model.compile(optimizer='adam', loss=\"binary_crossentropy\", metrics=['accuracy'])\n",
        "\n",
        "model.summary()"
      ],
      "execution_count": 5,
      "outputs": [
        {
          "output_type": "stream",
          "text": [
            "Model: \"sequential\"\n",
            "_________________________________________________________________\n",
            "Layer (type)                 Output Shape              Param #   \n",
            "=================================================================\n",
            "conv2d (Conv2D)              (None, 145, 145, 96)      34944     \n",
            "_________________________________________________________________\n",
            "batch_normalization (BatchNo (None, 145, 145, 96)      384       \n",
            "_________________________________________________________________\n",
            "activation (Activation)      (None, 145, 145, 96)      0         \n",
            "_________________________________________________________________\n",
            "max_pooling2d (MaxPooling2D) (None, 72, 72, 96)        0         \n",
            "_________________________________________________________________\n",
            "conv2d_1 (Conv2D)            (None, 72, 72, 256)       614656    \n",
            "_________________________________________________________________\n",
            "batch_normalization_1 (Batch (None, 72, 72, 256)       1024      \n",
            "_________________________________________________________________\n",
            "activation_1 (Activation)    (None, 72, 72, 256)       0         \n",
            "_________________________________________________________________\n",
            "max_pooling2d_1 (MaxPooling2 (None, 35, 35, 256)       0         \n",
            "_________________________________________________________________\n",
            "conv2d_2 (Conv2D)            (None, 35, 35, 384)       885120    \n",
            "_________________________________________________________________\n",
            "batch_normalization_2 (Batch (None, 35, 35, 384)       1536      \n",
            "_________________________________________________________________\n",
            "activation_2 (Activation)    (None, 35, 35, 384)       0         \n",
            "_________________________________________________________________\n",
            "conv2d_3 (Conv2D)            (None, 35, 35, 384)       1327488   \n",
            "_________________________________________________________________\n",
            "batch_normalization_3 (Batch (None, 35, 35, 384)       1536      \n",
            "_________________________________________________________________\n",
            "activation_3 (Activation)    (None, 35, 35, 384)       0         \n",
            "_________________________________________________________________\n",
            "conv2d_4 (Conv2D)            (None, 35, 35, 256)       884992    \n",
            "_________________________________________________________________\n",
            "batch_normalization_4 (Batch (None, 35, 35, 256)       1024      \n",
            "_________________________________________________________________\n",
            "activation_4 (Activation)    (None, 35, 35, 256)       0         \n",
            "_________________________________________________________________\n",
            "max_pooling2d_2 (MaxPooling2 (None, 17, 17, 256)       0         \n",
            "_________________________________________________________________\n",
            "flatten (Flatten)            (None, 73984)             0         \n",
            "_________________________________________________________________\n",
            "dense (Dense)                (None, 9216)              681845760 \n",
            "_________________________________________________________________\n",
            "dense_1 (Dense)              (None, 4096)              37752832  \n",
            "_________________________________________________________________\n",
            "dense_2 (Dense)              (None, 4096)              16781312  \n",
            "_________________________________________________________________\n",
            "dense_3 (Dense)              (None, 2)                 8194      \n",
            "=================================================================\n",
            "Total params: 740,140,802\n",
            "Trainable params: 740,138,050\n",
            "Non-trainable params: 2,752\n",
            "_________________________________________________________________\n"
          ],
          "name": "stdout"
        }
      ]
    },
    {
      "cell_type": "code",
      "metadata": {
        "id": "qqKxJSY3Y2MM",
        "colab_type": "code",
        "colab": {}
      },
      "source": [
        "class max_acc_callback(K.callbacks.Callback):\n",
        "    def on_epoch_end(self,epoch,logs={}):\n",
        "        if (logs.get(\"accuracy\") == 1.00 and logs.get(\"loss\") < 0.03):\n",
        "            print(\"\\nReached 100% accuracy! Stopping training...\")\n",
        "            self.model.stop_training = True\n",
        "\n",
        "tensorboard_callback = tf.keras.callbacks.TensorBoard(\"logs\")\n",
        "\n",
        "clf = model.fit(\n",
        "    x_train,\n",
        "    y_train,\n",
        "    epochs=50,\n",
        "    callbacks=[max_acc_callback(), tensorboard_callback]\n",
        ")"
      ],
      "execution_count": null,
      "outputs": []
    }
  ]
}

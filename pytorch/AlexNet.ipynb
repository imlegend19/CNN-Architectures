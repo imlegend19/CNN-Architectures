{
  "nbformat": 4,
  "nbformat_minor": 0,
  "metadata": {
    "colab": {
      "name": "AlexNet.ipynb",
      "provenance": []
    },
    "kernelspec": {
      "name": "python3",
      "display_name": "Python 3"
    },
    "accelerator": "GPU"
  },
  "cells": [
    {
      "cell_type": "code",
      "metadata": {
        "id": "OQOHxa3oP-sh",
        "colab_type": "code",
        "colab": {}
      },
      "source": [
        "import torch.nn as nn\n",
        "import torch\n",
        "import gc\n",
        "from torchsummary import summary\n",
        "\n",
        "\n",
        "class AlexNet(nn.Module):\n",
        "    def __init__(self, num_classes):\n",
        "        super(AlexNet, self).__init__()\n",
        "\n",
        "        self.in_channels = 3\n",
        "        self.num_classes = num_classes\n",
        "        self.architecture = [\n",
        "            (64, 11, 4, 2), 'M',\n",
        "            (192, 5, 1, 2), 'M',\n",
        "            (384, 3, 1, 1),\n",
        "            (256, 3, 1, 1),\n",
        "            (256, 3, 1, 1), 'M'\n",
        "        ]\n",
        "\n",
        "        self.conv_layers = self._init_conv_layers()\n",
        "        self.fcl = nn.Sequential(\n",
        "            nn.Linear(256 * 6 * 6, 4096),\n",
        "            nn.ReLU(inplace=True),\n",
        "            nn.Dropout(),\n",
        "            nn.Linear(4096, 4096),\n",
        "            nn.ReLU(inplace=True),\n",
        "            nn.Dropout(),\n",
        "            nn.Linear(4096, num_classes)\n",
        "        )\n",
        "\n",
        "    def forward(self, x):\n",
        "        x = self.conv_layers(x)\n",
        "        x = torch.flatten(x, 1)\n",
        "        x = self.fcl(x)\n",
        "        return x\n",
        "\n",
        "    def _init_conv_layers(self):\n",
        "        layers = []\n",
        "        in_channels = self.in_channels\n",
        "\n",
        "        for x in self.architecture:\n",
        "            if isinstance(x, str):\n",
        "                layers.append(nn.MaxPool2d(kernel_size=3, stride=2))\n",
        "            else:\n",
        "                out_channels = x[0]\n",
        "\n",
        "                layers += [\n",
        "                    nn.Conv2d(in_channels, out_channels, kernel_size=x[1], stride=x[2], padding=x[3]),\n",
        "                    nn.BatchNorm2d(out_channels),\n",
        "                    nn.ReLU()\n",
        "                ]\n",
        "\n",
        "                in_channels = out_channels\n",
        "\n",
        "        return nn.Sequential(*layers)"
      ],
      "execution_count": 1,
      "outputs": []
    },
    {
      "cell_type": "code",
      "metadata": {
        "id": "vsPS6g6aaKZu",
        "colab_type": "code",
        "colab": {
          "base_uri": "https://localhost:8080/",
          "height": 663
        },
        "outputId": "fa3bedc5-69a5-45ae-cfa5-644420c43fda"
      },
      "source": [
        "torch.cuda.empty_cache()\n",
        "device = torch.device('cuda:0' if torch.cuda.is_available() else 'cpu')\n",
        "# classes, train, val, test = get_datasets()\n",
        "\n",
        "model = AlexNet(num_classes=101).to(device)\n",
        "gc.collect()\n",
        "summary(model, (3, 224, 224))"
      ],
      "execution_count": 2,
      "outputs": [
        {
          "output_type": "stream",
          "text": [
            "----------------------------------------------------------------\n",
            "        Layer (type)               Output Shape         Param #\n",
            "================================================================\n",
            "            Conv2d-1           [-1, 64, 55, 55]          23,296\n",
            "       BatchNorm2d-2           [-1, 64, 55, 55]             128\n",
            "              ReLU-3           [-1, 64, 55, 55]               0\n",
            "         MaxPool2d-4           [-1, 64, 27, 27]               0\n",
            "            Conv2d-5          [-1, 192, 27, 27]         307,392\n",
            "       BatchNorm2d-6          [-1, 192, 27, 27]             384\n",
            "              ReLU-7          [-1, 192, 27, 27]               0\n",
            "         MaxPool2d-8          [-1, 192, 13, 13]               0\n",
            "            Conv2d-9          [-1, 384, 13, 13]         663,936\n",
            "      BatchNorm2d-10          [-1, 384, 13, 13]             768\n",
            "             ReLU-11          [-1, 384, 13, 13]               0\n",
            "           Conv2d-12          [-1, 256, 13, 13]         884,992\n",
            "      BatchNorm2d-13          [-1, 256, 13, 13]             512\n",
            "             ReLU-14          [-1, 256, 13, 13]               0\n",
            "           Conv2d-15          [-1, 256, 13, 13]         590,080\n",
            "      BatchNorm2d-16          [-1, 256, 13, 13]             512\n",
            "             ReLU-17          [-1, 256, 13, 13]               0\n",
            "        MaxPool2d-18            [-1, 256, 6, 6]               0\n",
            "           Linear-19                 [-1, 4096]      37,752,832\n",
            "             ReLU-20                 [-1, 4096]               0\n",
            "          Dropout-21                 [-1, 4096]               0\n",
            "           Linear-22                 [-1, 4096]      16,781,312\n",
            "             ReLU-23                 [-1, 4096]               0\n",
            "          Dropout-24                 [-1, 4096]               0\n",
            "           Linear-25                  [-1, 101]         413,797\n",
            "================================================================\n",
            "Total params: 57,419,941\n",
            "Trainable params: 57,419,941\n",
            "Non-trainable params: 0\n",
            "----------------------------------------------------------------\n",
            "Input size (MB): 0.57\n",
            "Forward/backward pass size (MB): 11.96\n",
            "Params size (MB): 219.04\n",
            "Estimated Total Size (MB): 231.58\n",
            "----------------------------------------------------------------\n"
          ],
          "name": "stdout"
        }
      ]
    }
  ]
}